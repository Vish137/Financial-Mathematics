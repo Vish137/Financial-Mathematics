{
 "cells": [
  {
   "cell_type": "code",
   "execution_count": 282,
   "metadata": {},
   "outputs": [],
   "source": [
    "# Import packages\n",
    "%matplotlib inline\n",
    "import numpy as np\n",
    "import scipy as sp\n",
    "import scipy.stats as sps\n",
    "import matplotlib.pyplot as plt\n",
    "import pandas as  pd\n",
    "import math as mt\n",
    "import seaborn as sns"
   ]
  },
  {
   "cell_type": "code",
   "execution_count": 283,
   "metadata": {},
   "outputs": [],
   "source": [
    "data_path='/Users/CiciLi/Downloads/Data Interdisciplinary Project1.xlsx'\n",
    "data=pd.read_excel(data_path)"
   ]
  },
  {
   "cell_type": "code",
   "execution_count": 284,
   "metadata": {},
   "outputs": [],
   "source": [
    "data_rebase=data"
   ]
  },
  {
   "cell_type": "code",
   "execution_count": 285,
   "metadata": {},
   "outputs": [],
   "source": [
    "data_rebase=data_rebase.set_index(list(data_rebase.columns)[0],drop=True)\n"
   ]
  },
  {
   "cell_type": "code",
   "execution_count": 286,
   "metadata": {},
   "outputs": [],
   "source": [
    "DF1 = data_rebase.iloc[3:,1:]\n",
    "type(DF1)\n",
    "DF1\n",
    "DF1.rename(columns={'1': '1Cash', 'Unnamed: 3': '2DEQ','Unnamed: 4': '3AEQ','Unnamed: 5': '4EMEQ','Unnamed: 6': '5AFI','Unnamed: 7': '6DGB'}, index={'4': 'o','5': '2','6': '3','7': '4','8': '5','9': '6','10': '7','11': '8','12': '9','13': '10','14': '11','15': '12'},inplace=True)"
   ]
  },
  {
   "cell_type": "code",
   "execution_count": 287,
   "metadata": {
    "scrolled": false
   },
   "outputs": [],
   "source": [
    "##Q1 a).\n",
    "#1/1/2007-31/12/2010\n",
    "#1/31/2007(72) to 31/12/2010(120)\n",
    "Data_A=DF1.iloc[72:120 , :]\n",
    "Data_A\n",
    "#1/1/2011-31/12/2014\n",
    "Data_B=DF1.iloc[120:168 , :]\n",
    "#Data_B"
   ]
  },
  {
   "cell_type": "code",
   "execution_count": 288,
   "metadata": {},
   "outputs": [
    {
     "name": "stdout",
     "output_type": "stream",
     "text": [
      "1       -0.000099\n",
      "2DEQ    -0.002481\n",
      "3AEQ     0.006002\n",
      "4EMEQ    0.005191\n",
      "5AFI     0.006492\n",
      "6DGB     0.004545\n",
      "dtype: float64\n"
     ]
    },
    {
     "data": {
      "text/html": [
       "<div>\n",
       "<style scoped>\n",
       "    .dataframe tbody tr th:only-of-type {\n",
       "        vertical-align: middle;\n",
       "    }\n",
       "\n",
       "    .dataframe tbody tr th {\n",
       "        vertical-align: top;\n",
       "    }\n",
       "\n",
       "    .dataframe thead th {\n",
       "        text-align: right;\n",
       "    }\n",
       "</style>\n",
       "<table border=\"1\" class=\"dataframe\">\n",
       "  <thead>\n",
       "    <tr style=\"text-align: right;\">\n",
       "      <th></th>\n",
       "      <th>1</th>\n",
       "      <th>2DEQ</th>\n",
       "      <th>3AEQ</th>\n",
       "      <th>4EMEQ</th>\n",
       "      <th>5AFI</th>\n",
       "      <th>6DGB</th>\n",
       "    </tr>\n",
       "  </thead>\n",
       "  <tbody>\n",
       "    <tr>\n",
       "      <th>0</th>\n",
       "      <td>-0.000099</td>\n",
       "      <td>-0.002481</td>\n",
       "      <td>0.006002</td>\n",
       "      <td>0.005191</td>\n",
       "      <td>0.006492</td>\n",
       "      <td>0.004545</td>\n",
       "    </tr>\n",
       "  </tbody>\n",
       "</table>\n",
       "</div>"
      ],
      "text/plain": [
       "          1      2DEQ      3AEQ     4EMEQ      5AFI      6DGB\n",
       "0 -0.000099 -0.002481  0.006002  0.005191  0.006492  0.004545"
      ]
     },
     "execution_count": 288,
     "metadata": {},
     "output_type": "execute_result"
    }
   ],
   "source": [
    "#The mean of multivarite normal distribution a\n",
    "col_names = Data_A.columns\n",
    "#log(A+1)\n",
    "log_A=Data_A.copy()\n",
    "for i in col_names:\n",
    "    log_A[i] = np.log(1+log_A[i].astype('float64'))\n",
    "\n",
    "#log(B+1)\n",
    "log_B=Data_B.copy()\n",
    "for i in col_names:\n",
    "    log_B[i] = np.log(1+log_B[i].astype('float64'))\n",
    "    \n",
    "##mean for logA and log B\n",
    "Mean_A=pd.DataFrame()\n",
    "Mean_B=pd.DataFrame()\n",
    "for i in col_names:\n",
    "    Mean_A[i]=[log_A[i].mean()]\n",
    "Mean_A   \n",
    "for i in col_names:\n",
    "    Mean_B[i]=[log_B[i].mean()]\n",
    "Mean_B   \n",
    "\n",
    "print(log_A.mean())\n",
    "Mean_A\n"
   ]
  },
  {
   "cell_type": "code",
   "execution_count": 289,
   "metadata": {},
   "outputs": [
    {
     "data": {
      "text/html": [
       "<div>\n",
       "<style scoped>\n",
       "    .dataframe tbody tr th:only-of-type {\n",
       "        vertical-align: middle;\n",
       "    }\n",
       "\n",
       "    .dataframe tbody tr th {\n",
       "        vertical-align: top;\n",
       "    }\n",
       "\n",
       "    .dataframe thead th {\n",
       "        text-align: right;\n",
       "    }\n",
       "</style>\n",
       "<table border=\"1\" class=\"dataframe\">\n",
       "  <thead>\n",
       "    <tr style=\"text-align: right;\">\n",
       "      <th></th>\n",
       "      <th>1</th>\n",
       "      <th>2DEQ</th>\n",
       "      <th>3AEQ</th>\n",
       "      <th>4EMEQ</th>\n",
       "      <th>5AFI</th>\n",
       "      <th>6DGB</th>\n",
       "    </tr>\n",
       "  </thead>\n",
       "  <tbody>\n",
       "    <tr>\n",
       "      <th>1</th>\n",
       "      <td>0.001110</td>\n",
       "      <td>0.000677</td>\n",
       "      <td>0.000773</td>\n",
       "      <td>-0.000079</td>\n",
       "      <td>-0.000033</td>\n",
       "      <td>-5.111626e-06</td>\n",
       "    </tr>\n",
       "    <tr>\n",
       "      <th>2DEQ</th>\n",
       "      <td>0.000677</td>\n",
       "      <td>0.000946</td>\n",
       "      <td>0.000833</td>\n",
       "      <td>-0.000115</td>\n",
       "      <td>-0.000078</td>\n",
       "      <td>-6.222407e-06</td>\n",
       "    </tr>\n",
       "    <tr>\n",
       "      <th>3AEQ</th>\n",
       "      <td>0.000773</td>\n",
       "      <td>0.000833</td>\n",
       "      <td>0.001175</td>\n",
       "      <td>-0.000109</td>\n",
       "      <td>-0.000051</td>\n",
       "      <td>-4.038200e-06</td>\n",
       "    </tr>\n",
       "    <tr>\n",
       "      <th>4EMEQ</th>\n",
       "      <td>-0.000079</td>\n",
       "      <td>-0.000115</td>\n",
       "      <td>-0.000109</td>\n",
       "      <td>0.000058</td>\n",
       "      <td>0.000035</td>\n",
       "      <td>1.951893e-06</td>\n",
       "    </tr>\n",
       "    <tr>\n",
       "      <th>5AFI</th>\n",
       "      <td>-0.000033</td>\n",
       "      <td>-0.000078</td>\n",
       "      <td>-0.000051</td>\n",
       "      <td>0.000035</td>\n",
       "      <td>0.000053</td>\n",
       "      <td>1.073905e-06</td>\n",
       "    </tr>\n",
       "    <tr>\n",
       "      <th>6DGB</th>\n",
       "      <td>-0.000005</td>\n",
       "      <td>-0.000006</td>\n",
       "      <td>-0.000004</td>\n",
       "      <td>0.000002</td>\n",
       "      <td>0.000001</td>\n",
       "      <td>6.403896e-07</td>\n",
       "    </tr>\n",
       "  </tbody>\n",
       "</table>\n",
       "</div>"
      ],
      "text/plain": [
       "              1      2DEQ      3AEQ     4EMEQ      5AFI          6DGB\n",
       "1      0.001110  0.000677  0.000773 -0.000079 -0.000033 -5.111626e-06\n",
       "2DEQ   0.000677  0.000946  0.000833 -0.000115 -0.000078 -6.222407e-06\n",
       "3AEQ   0.000773  0.000833  0.001175 -0.000109 -0.000051 -4.038200e-06\n",
       "4EMEQ -0.000079 -0.000115 -0.000109  0.000058  0.000035  1.951893e-06\n",
       "5AFI  -0.000033 -0.000078 -0.000051  0.000035  0.000053  1.073905e-06\n",
       "6DGB  -0.000005 -0.000006 -0.000004  0.000002  0.000001  6.403896e-07"
      ]
     },
     "execution_count": 289,
     "metadata": {},
     "output_type": "execute_result"
    }
   ],
   "source": [
    "#The covariance matrix\n",
    "log_A.cov()\n",
    "log_B.cov()\n"
   ]
  },
  {
   "cell_type": "code",
   "execution_count": 290,
   "metadata": {
    "scrolled": true
   },
   "outputs": [],
   "source": [
    "#visual covariance matrix\n",
    "#sns.heatmap(log_A.corr(),cmap=\"coolwarm\")\n",
    "#sns.heatmap(log_B.corr(),cmap=\"coolwarm\")"
   ]
  },
  {
   "cell_type": "code",
   "execution_count": 291,
   "metadata": {},
   "outputs": [],
   "source": [
    "##Q3.The one year return\n",
    "#for Data_A and Data B calateing U_ij\n",
    "A1=log_A.iloc[:12 , :]\n",
    "A2=log_A.iloc[12:24,:]\n",
    "A3=log_A.iloc[24:36,:]\n",
    "A4=log_A.iloc[36:,:]\n",
    "\n",
    "A1=A1.sum()\n",
    "A2=A2.sum()\n",
    "A3=A3.sum()\n",
    "A4=A4.sum()\n",
    "U_A=(A1+A2+A3+A4)/4\n",
    "\n",
    "B1=log_B.iloc[:12 , :]\n",
    "B2=log_B.iloc[12:24,:]\n",
    "B3=log_B.iloc[24:36,:]\n",
    "B4=log_B.iloc[36:,:]\n",
    "\n",
    "B1=B1.sum()\n",
    "B2=B2.sum()\n",
    "B3=B3.sum()\n",
    "B4=B4.sum()\n",
    "U_B=(B1+B2+B3+B4)/4\n",
    "\n"
   ]
  },
  {
   "cell_type": "code",
   "execution_count": 293,
   "metadata": {},
   "outputs": [
    {
     "data": {
      "text/html": [
       "<div>\n",
       "<style scoped>\n",
       "    .dataframe tbody tr th:only-of-type {\n",
       "        vertical-align: middle;\n",
       "    }\n",
       "\n",
       "    .dataframe tbody tr th {\n",
       "        vertical-align: top;\n",
       "    }\n",
       "\n",
       "    .dataframe thead th {\n",
       "        text-align: right;\n",
       "    }\n",
       "</style>\n",
       "<table border=\"1\" class=\"dataframe\">\n",
       "  <thead>\n",
       "    <tr style=\"text-align: right;\">\n",
       "      <th></th>\n",
       "      <th>1</th>\n",
       "      <th>2DEQ</th>\n",
       "      <th>3AEQ</th>\n",
       "      <th>4EMEQ</th>\n",
       "      <th>5AFI</th>\n",
       "      <th>6DGB</th>\n",
       "    </tr>\n",
       "  </thead>\n",
       "  <tbody>\n",
       "    <tr>\n",
       "      <th>1</th>\n",
       "      <td>0.019710</td>\n",
       "      <td>0.017005</td>\n",
       "      <td>0.015013</td>\n",
       "      <td>-0.004190</td>\n",
       "      <td>-0.003502</td>\n",
       "      <td>-0.000910</td>\n",
       "    </tr>\n",
       "    <tr>\n",
       "      <th>2DEQ</th>\n",
       "      <td>0.017005</td>\n",
       "      <td>0.016630</td>\n",
       "      <td>0.010804</td>\n",
       "      <td>-0.004578</td>\n",
       "      <td>-0.004006</td>\n",
       "      <td>-0.000994</td>\n",
       "    </tr>\n",
       "    <tr>\n",
       "      <th>3AEQ</th>\n",
       "      <td>0.015013</td>\n",
       "      <td>0.010804</td>\n",
       "      <td>0.014702</td>\n",
       "      <td>-0.001796</td>\n",
       "      <td>-0.001104</td>\n",
       "      <td>-0.000661</td>\n",
       "    </tr>\n",
       "    <tr>\n",
       "      <th>4EMEQ</th>\n",
       "      <td>-0.004190</td>\n",
       "      <td>-0.004578</td>\n",
       "      <td>-0.001796</td>\n",
       "      <td>0.001491</td>\n",
       "      <td>0.001409</td>\n",
       "      <td>0.000223</td>\n",
       "    </tr>\n",
       "    <tr>\n",
       "      <th>5AFI</th>\n",
       "      <td>-0.003502</td>\n",
       "      <td>-0.004006</td>\n",
       "      <td>-0.001104</td>\n",
       "      <td>0.001409</td>\n",
       "      <td>0.001375</td>\n",
       "      <td>0.000162</td>\n",
       "    </tr>\n",
       "    <tr>\n",
       "      <th>6DGB</th>\n",
       "      <td>-0.000910</td>\n",
       "      <td>-0.000994</td>\n",
       "      <td>-0.000661</td>\n",
       "      <td>0.000223</td>\n",
       "      <td>0.000162</td>\n",
       "      <td>0.000107</td>\n",
       "    </tr>\n",
       "  </tbody>\n",
       "</table>\n",
       "</div>"
      ],
      "text/plain": [
       "              1      2DEQ      3AEQ     4EMEQ      5AFI      6DGB\n",
       "1      0.019710  0.017005  0.015013 -0.004190 -0.003502 -0.000910\n",
       "2DEQ   0.017005  0.016630  0.010804 -0.004578 -0.004006 -0.000994\n",
       "3AEQ   0.015013  0.010804  0.014702 -0.001796 -0.001104 -0.000661\n",
       "4EMEQ -0.004190 -0.004578 -0.001796  0.001491  0.001409  0.000223\n",
       "5AFI  -0.003502 -0.004006 -0.001104  0.001409  0.001375  0.000162\n",
       "6DGB  -0.000910 -0.000994 -0.000661  0.000223  0.000162  0.000107"
      ]
     },
     "execution_count": 293,
     "metadata": {},
     "output_type": "execute_result"
    }
   ],
   "source": [
    "##for annual return A & B rho_ij\n",
    "#rho_ij for A &B\n",
    "Annual_set_A=pd.concat([A1, A2,A3,A4], axis=1)\n",
    "Annual_set_B=pd.concat([B1, B2,B3,B4], axis=1)\n",
    "A=Annual_set_A.T\n",
    "B=Annual_set_B.T\n",
    "A.corr()\n",
    "B.corr()\n",
    "#C_ij for A &B\n",
    "A.cov()\n",
    "B.cov()"
   ]
  },
  {
   "cell_type": "code",
   "execution_count": null,
   "metadata": {},
   "outputs": [],
   "source": []
  },
  {
   "cell_type": "code",
   "execution_count": null,
   "metadata": {},
   "outputs": [],
   "source": []
  },
  {
   "cell_type": "code",
   "execution_count": null,
   "metadata": {},
   "outputs": [],
   "source": []
  },
  {
   "cell_type": "code",
   "execution_count": null,
   "metadata": {},
   "outputs": [],
   "source": []
  }
 ],
 "metadata": {
  "kernelspec": {
   "display_name": "Python 3",
   "language": "python",
   "name": "python3"
  },
  "language_info": {
   "codemirror_mode": {
    "name": "ipython",
    "version": 3
   },
   "file_extension": ".py",
   "mimetype": "text/x-python",
   "name": "python",
   "nbconvert_exporter": "python",
   "pygments_lexer": "ipython3",
   "version": "3.8.3"
  }
 },
 "nbformat": 4,
 "nbformat_minor": 4
}
