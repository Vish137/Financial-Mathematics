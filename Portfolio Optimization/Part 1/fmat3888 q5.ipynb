{
 "cells": [
  {
   "cell_type": "code",
   "execution_count": 2,
   "metadata": {},
   "outputs": [],
   "source": [
    "# Import packages\n",
    "%matplotlib inline\n",
    "import numpy as np\n",
    "import scipy as sp\n",
    "import scipy.stats as sps\n",
    "import matplotlib.pyplot as plt\n",
    "import pandas as  pd\n",
    "import math as mt\n",
    "import seaborn as sns"
   ]
  },
  {
   "cell_type": "code",
   "execution_count": 3,
   "metadata": {},
   "outputs": [],
   "source": [
    "data_path='rawdata.xlsx'\n",
    "DF=pd.read_excel(data_path)"
   ]
  },
  {
   "cell_type": "code",
   "execution_count": 4,
   "metadata": {},
   "outputs": [],
   "source": [
    "#df = pd.DataFrame(DF, columns= ['DATE','Cash(D)'])\n",
    "DF=pd.DataFrame(DF)"
   ]
  },
  {
   "cell_type": "code",
   "execution_count": 5,
   "metadata": {},
   "outputs": [
    {
     "data": {
      "text/html": [
       "<div>\n",
       "<style scoped>\n",
       "    .dataframe tbody tr th:only-of-type {\n",
       "        vertical-align: middle;\n",
       "    }\n",
       "\n",
       "    .dataframe tbody tr th {\n",
       "        vertical-align: top;\n",
       "    }\n",
       "\n",
       "    .dataframe thead th {\n",
       "        text-align: right;\n",
       "    }\n",
       "</style>\n",
       "<table border=\"1\" class=\"dataframe\">\n",
       "  <thead>\n",
       "    <tr style=\"text-align: right;\">\n",
       "      <th></th>\n",
       "      <th>1</th>\n",
       "      <th>Unnamed: 3</th>\n",
       "      <th>Unnamed: 4</th>\n",
       "      <th>Unnamed: 5</th>\n",
       "      <th>Unnamed: 6</th>\n",
       "      <th>Unnamed: 7</th>\n",
       "    </tr>\n",
       "  </thead>\n",
       "  <tbody>\n",
       "    <tr>\n",
       "      <td>3</td>\n",
       "      <td>0.0431977</td>\n",
       "      <td>0.0260299</td>\n",
       "      <td>0.13824</td>\n",
       "      <td>0.0150034</td>\n",
       "      <td>0.010966</td>\n",
       "      <td>0.00536417</td>\n",
       "    </tr>\n",
       "    <tr>\n",
       "      <td>4</td>\n",
       "      <td>-0.00187427</td>\n",
       "      <td>-0.0786783</td>\n",
       "      <td>-0.0678592</td>\n",
       "      <td>0.00667544</td>\n",
       "      <td>0.0102496</td>\n",
       "      <td>0.00469495</td>\n",
       "    </tr>\n",
       "    <tr>\n",
       "      <td>5</td>\n",
       "      <td>-0.0484658</td>\n",
       "      <td>-0.0478684</td>\n",
       "      <td>-0.0781715</td>\n",
       "      <td>0.00593854</td>\n",
       "      <td>0.00719235</td>\n",
       "      <td>0.00482099</td>\n",
       "    </tr>\n",
       "    <tr>\n",
       "      <td>6</td>\n",
       "      <td>0.0585453</td>\n",
       "      <td>0.0697504</td>\n",
       "      <td>0.0472875</td>\n",
       "      <td>-0.0096612</td>\n",
       "      <td>-0.00638446</td>\n",
       "      <td>0.0043502</td>\n",
       "    </tr>\n",
       "    <tr>\n",
       "      <td>7</td>\n",
       "      <td>0.0171577</td>\n",
       "      <td>-0.00710211</td>\n",
       "      <td>0.0226201</td>\n",
       "      <td>-0.00377142</td>\n",
       "      <td>0.00561258</td>\n",
       "      <td>0.00404969</td>\n",
       "    </tr>\n",
       "    <tr>\n",
       "      <td>...</td>\n",
       "      <td>...</td>\n",
       "      <td>...</td>\n",
       "      <td>...</td>\n",
       "      <td>...</td>\n",
       "      <td>...</td>\n",
       "      <td>...</td>\n",
       "    </tr>\n",
       "    <tr>\n",
       "      <td>242</td>\n",
       "      <td>0.0131964</td>\n",
       "      <td>0.0350668</td>\n",
       "      <td>0.0606605</td>\n",
       "      <td>-0.00272124</td>\n",
       "      <td>0.00179122</td>\n",
       "      <td>2.56511e-05</td>\n",
       "    </tr>\n",
       "    <tr>\n",
       "      <td>243</td>\n",
       "      <td>0.00331737</td>\n",
       "      <td>-0.00772246</td>\n",
       "      <td>0.0380541</td>\n",
       "      <td>-0.00419282</td>\n",
       "      <td>-0.00652406</td>\n",
       "      <td>1.23602e-05</td>\n",
       "    </tr>\n",
       "    <tr>\n",
       "      <td>244</td>\n",
       "      <td>0.0147604</td>\n",
       "      <td>0.0264729</td>\n",
       "      <td>0.0103307</td>\n",
       "      <td>-0.0358089</td>\n",
       "      <td>-0.0185919</td>\n",
       "      <td>-4.55976e-06</td>\n",
       "    </tr>\n",
       "    <tr>\n",
       "      <td>245</td>\n",
       "      <td>0.0229637</td>\n",
       "      <td>0.0420913</td>\n",
       "      <td>-0.00871113</td>\n",
       "      <td>0.00800359</td>\n",
       "      <td>-0.00210882</td>\n",
       "      <td>2.02679e-05</td>\n",
       "    </tr>\n",
       "    <tr>\n",
       "      <td>246</td>\n",
       "      <td>0.036974</td>\n",
       "      <td>0.0404377</td>\n",
       "      <td>0.0160339</td>\n",
       "      <td>0.00562161</td>\n",
       "      <td>0.000422977</td>\n",
       "      <td>2.88946e-05</td>\n",
       "    </tr>\n",
       "  </tbody>\n",
       "</table>\n",
       "<p>244 rows × 6 columns</p>\n",
       "</div>"
      ],
      "text/plain": [
       "              1  Unnamed: 3  Unnamed: 4  Unnamed: 5   Unnamed: 6   Unnamed: 7\n",
       "3     0.0431977   0.0260299     0.13824   0.0150034     0.010966   0.00536417\n",
       "4   -0.00187427  -0.0786783  -0.0678592  0.00667544    0.0102496   0.00469495\n",
       "5    -0.0484658  -0.0478684  -0.0781715  0.00593854   0.00719235   0.00482099\n",
       "6     0.0585453   0.0697504   0.0472875  -0.0096612  -0.00638446    0.0043502\n",
       "7     0.0171577 -0.00710211   0.0226201 -0.00377142   0.00561258   0.00404969\n",
       "..          ...         ...         ...         ...          ...          ...\n",
       "242   0.0131964   0.0350668   0.0606605 -0.00272124   0.00179122  2.56511e-05\n",
       "243  0.00331737 -0.00772246   0.0380541 -0.00419282  -0.00652406  1.23602e-05\n",
       "244   0.0147604   0.0264729   0.0103307  -0.0358089   -0.0185919 -4.55976e-06\n",
       "245   0.0229637   0.0420913 -0.00871113  0.00800359  -0.00210882  2.02679e-05\n",
       "246    0.036974   0.0404377   0.0160339  0.00562161  0.000422977  2.88946e-05\n",
       "\n",
       "[244 rows x 6 columns]"
      ]
     },
     "execution_count": 5,
     "metadata": {},
     "output_type": "execute_result"
    }
   ],
   "source": [
    "#df = df.iloc[: , :]\n",
    "DF1=DF.iloc[3: ,2 :8]\n",
    "DF1"
   ]
  },
  {
   "cell_type": "code",
   "execution_count": 6,
   "metadata": {},
   "outputs": [],
   "source": [
    "a=DF1\n",
    "cov=a.astype(float).cov()"
   ]
  },
  {
   "cell_type": "code",
   "execution_count": 7,
   "metadata": {},
   "outputs": [
    {
     "data": {
      "text/html": [
       "<div>\n",
       "<style scoped>\n",
       "    .dataframe tbody tr th:only-of-type {\n",
       "        vertical-align: middle;\n",
       "    }\n",
       "\n",
       "    .dataframe tbody tr th {\n",
       "        vertical-align: top;\n",
       "    }\n",
       "\n",
       "    .dataframe thead th {\n",
       "        text-align: right;\n",
       "    }\n",
       "</style>\n",
       "<table border=\"1\" class=\"dataframe\">\n",
       "  <thead>\n",
       "    <tr style=\"text-align: right;\">\n",
       "      <th></th>\n",
       "      <th>0</th>\n",
       "    </tr>\n",
       "  </thead>\n",
       "  <tbody>\n",
       "    <tr>\n",
       "      <td>0</td>\n",
       "      <td>1.0</td>\n",
       "    </tr>\n",
       "    <tr>\n",
       "      <td>1</td>\n",
       "      <td>1.0</td>\n",
       "    </tr>\n",
       "    <tr>\n",
       "      <td>2</td>\n",
       "      <td>1.0</td>\n",
       "    </tr>\n",
       "    <tr>\n",
       "      <td>3</td>\n",
       "      <td>1.0</td>\n",
       "    </tr>\n",
       "    <tr>\n",
       "      <td>4</td>\n",
       "      <td>1.0</td>\n",
       "    </tr>\n",
       "    <tr>\n",
       "      <td>5</td>\n",
       "      <td>1.0</td>\n",
       "    </tr>\n",
       "  </tbody>\n",
       "</table>\n",
       "</div>"
      ],
      "text/plain": [
       "     0\n",
       "0  1.0\n",
       "1  1.0\n",
       "2  1.0\n",
       "3  1.0\n",
       "4  1.0\n",
       "5  1.0"
      ]
     },
     "execution_count": 7,
     "metadata": {},
     "output_type": "execute_result"
    }
   ],
   "source": [
    "e=pd.DataFrame(np.ones(6))\n",
    "e"
   ]
  },
  {
   "cell_type": "code",
   "execution_count": 8,
   "metadata": {},
   "outputs": [
    {
     "data": {
      "text/html": [
       "<div>\n",
       "<style scoped>\n",
       "    .dataframe tbody tr th:only-of-type {\n",
       "        vertical-align: middle;\n",
       "    }\n",
       "\n",
       "    .dataframe tbody tr th {\n",
       "        vertical-align: top;\n",
       "    }\n",
       "\n",
       "    .dataframe thead th {\n",
       "        text-align: right;\n",
       "    }\n",
       "</style>\n",
       "<table border=\"1\" class=\"dataframe\">\n",
       "  <thead>\n",
       "    <tr style=\"text-align: right;\">\n",
       "      <th></th>\n",
       "      <th>0</th>\n",
       "      <th>1</th>\n",
       "      <th>2</th>\n",
       "      <th>3</th>\n",
       "      <th>4</th>\n",
       "      <th>5</th>\n",
       "    </tr>\n",
       "  </thead>\n",
       "  <tbody>\n",
       "    <tr>\n",
       "      <td>0</td>\n",
       "      <td>1.0</td>\n",
       "      <td>1.0</td>\n",
       "      <td>1.0</td>\n",
       "      <td>1.0</td>\n",
       "      <td>1.0</td>\n",
       "      <td>1.0</td>\n",
       "    </tr>\n",
       "  </tbody>\n",
       "</table>\n",
       "</div>"
      ],
      "text/plain": [
       "     0    1    2    3    4    5\n",
       "0  1.0  1.0  1.0  1.0  1.0  1.0"
      ]
     },
     "execution_count": 8,
     "metadata": {},
     "output_type": "execute_result"
    }
   ],
   "source": [
    "e.T"
   ]
  },
  {
   "cell_type": "code",
   "execution_count": 9,
   "metadata": {},
   "outputs": [
    {
     "data": {
      "text/plain": [
       "17181.64746773567"
      ]
     },
     "execution_count": 9,
     "metadata": {},
     "output_type": "execute_result"
    }
   ],
   "source": [
    "#covriance matrix for 2 year\n",
    "cov=24*cov\n",
    "a=e.T@np.linalg.inv(cov.values)@e\n",
    "a=a.values\n",
    "a=float(a)\n",
    "a "
   ]
  },
  {
   "cell_type": "code",
   "execution_count": 11,
   "metadata": {},
   "outputs": [
    {
     "data": {
      "text/plain": [
       "array([0.18017439, 0.13680483, 0.23300986, 0.10811212, 0.12642387,\n",
       "       0.07625199])"
      ]
     },
     "execution_count": 11,
     "metadata": {},
     "output_type": "execute_result"
    }
   ],
   "source": [
    "r = DF1.mean(axis=0).values\n",
    "r = 24*r\n",
    "r"
   ]
  },
  {
   "cell_type": "code",
   "execution_count": 12,
   "metadata": {},
   "outputs": [
    {
     "data": {
      "text/plain": [
       "1319.3013991143728"
      ]
     },
     "execution_count": 12,
     "metadata": {},
     "output_type": "execute_result"
    }
   ],
   "source": [
    "b=r.T@np.linalg.inv(cov.values)@e.values\n",
    "b=float(b)\n",
    "b"
   ]
  },
  {
   "cell_type": "code",
   "execution_count": 13,
   "metadata": {},
   "outputs": [],
   "source": [
    "c=r.T@np.linalg.inv(cov.values)@r\n",
    "c=float(c)"
   ]
  },
  {
   "cell_type": "code",
   "execution_count": 14,
   "metadata": {},
   "outputs": [
    {
     "data": {
      "text/plain": [
       "42164.615185202565"
      ]
     },
     "execution_count": 14,
     "metadata": {},
     "output_type": "execute_result"
    }
   ],
   "source": [
    "d=(a*c-b*b)\n",
    "d"
   ]
  },
  {
   "cell_type": "code",
   "execution_count": 81,
   "metadata": {},
   "outputs": [
    {
     "data": {
      "image/png": "[encoded data removed]",
      "text/plain": [
       "<Figure size 432x288 with 1 Axes>"
      ]
     },
     "metadata": {
      "needs_background": "light"
     },
     "output_type": "display_data"
    }
   ],
   "source": [
    "def eff_frontier(a,b,c,d,t):\n",
    "    var = (1+d*t*t)/a\n",
    "    mean = (b+d*t)/a\n",
    "    mean = -mean[np.where(mean<(b/a))]\n",
    "    var = var[0:len(mean)]\n",
    "    plt.plot(var,mean,'-b')\n",
    "    plt.title('Efficient Frontier')\n",
    "    plt.xlabel('$\\sigma^2(t)$',fontsize=12);plt.ylabel('$\\mu(t)$',rotation=0,labelpad=15,fontsize=12)\n",
    "    plt.show()\n",
    "    return\n",
    "\n",
    "t = np.linspace(-10,10,20000)\n",
    "eff_frontier(a,b,c,d,t)"
   ]
  },
  {
   "cell_type": "code",
   "execution_count": 71,
   "metadata": {},
   "outputs": [
    {
     "data": {
      "text/plain": [
       "array([], dtype=float64)"
      ]
     },
     "execution_count": 71,
     "metadata": {},
     "output_type": "execute_result"
    }
   ],
   "source": [
    "mean[np.where(mean==b/a)] #problem with this method is that we cannot identify where this coordinate is to any precision"
   ]
  },
  {
   "cell_type": "code",
   "execution_count": 55,
   "metadata": {},
   "outputs": [
    {
     "data": {
      "text/plain": [
       "array([-24.46371055, -24.46125638, -24.45880221, ...,  24.61237321,\n",
       "        24.61482738,  24.61728155])"
      ]
     },
     "execution_count": 55,
     "metadata": {},
     "output_type": "execute_result"
    }
   ],
   "source": []
  },
  {
   "cell_type": "code",
   "execution_count": null,
   "metadata": {},
   "outputs": [],
   "source": []
  }
 ],
 "metadata": {
  "kernelspec": {
   "display_name": "Python 3",
   "language": "python",
   "name": "python3"
  },
  "language_info": {
   "codemirror_mode": {
    "name": "ipython",
    "version": 3
   },
   "file_extension": ".py",
   "mimetype": "text/x-python",
   "name": "python",
   "nbconvert_exporter": "python",
   "pygments_lexer": "ipython3",
   "version": "3.7.4"
  }
 },
 "nbformat": 4,
 "nbformat_minor": 4
}
