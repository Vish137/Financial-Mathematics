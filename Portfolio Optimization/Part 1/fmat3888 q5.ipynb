{
 "cells": [
  {
   "cell_type": "code",
   "execution_count": 256,
   "metadata": {},
   "outputs": [],
   "source": [
    "# Import packages\n",
    "%matplotlib inline\n",
    "import numpy as np\n",
    "import scipy as sp\n",
    "import scipy.stats as sps\n",
    "import matplotlib.pyplot as plt\n",
    "import pandas as  pd\n",
    "import math as mt\n",
    "import seaborn as sns"
   ]
  },
  {
   "cell_type": "code",
   "execution_count": 257,
   "metadata": {},
   "outputs": [],
   "source": [
    "data_path='/Users/yangyingkang/Downloads/chrome下载/Data Interdisciplinary Project.xlsx'\n",
    "DF=pd.read_excel(data_path)"
   ]
  },
  {
   "cell_type": "code",
   "execution_count": 258,
   "metadata": {},
   "outputs": [],
   "source": [
    "#df = pd.DataFrame(DF, columns= ['DATE','Cash(D)'])\n",
    "DF=pd.DataFrame(DF)"
   ]
  },
  {
   "cell_type": "code",
   "execution_count": 259,
   "metadata": {},
   "outputs": [
    {
     "data": {
      "text/html": [
       "<div>\n",
       "<style scoped>\n",
       "    .dataframe tbody tr th:only-of-type {\n",
       "        vertical-align: middle;\n",
       "    }\n",
       "\n",
       "    .dataframe tbody tr th {\n",
       "        vertical-align: top;\n",
       "    }\n",
       "\n",
       "    .dataframe thead th {\n",
       "        text-align: right;\n",
       "    }\n",
       "</style>\n",
       "<table border=\"1\" class=\"dataframe\">\n",
       "  <thead>\n",
       "    <tr style=\"text-align: right;\">\n",
       "      <th></th>\n",
       "      <th>1</th>\n",
       "      <th>Unnamed: 3</th>\n",
       "      <th>Unnamed: 4</th>\n",
       "      <th>Unnamed: 5</th>\n",
       "      <th>Unnamed: 6</th>\n",
       "      <th>Unnamed: 7</th>\n",
       "    </tr>\n",
       "  </thead>\n",
       "  <tbody>\n",
       "    <tr>\n",
       "      <th>3</th>\n",
       "      <td>0.0431977</td>\n",
       "      <td>0.0260299</td>\n",
       "      <td>0.13824</td>\n",
       "      <td>0.0150034</td>\n",
       "      <td>0.010966</td>\n",
       "      <td>0.00536417</td>\n",
       "    </tr>\n",
       "    <tr>\n",
       "      <th>4</th>\n",
       "      <td>-0.00187427</td>\n",
       "      <td>-0.0786783</td>\n",
       "      <td>-0.0678592</td>\n",
       "      <td>0.00667544</td>\n",
       "      <td>0.0102496</td>\n",
       "      <td>0.00469495</td>\n",
       "    </tr>\n",
       "    <tr>\n",
       "      <th>5</th>\n",
       "      <td>-0.0484658</td>\n",
       "      <td>-0.0478684</td>\n",
       "      <td>-0.0781715</td>\n",
       "      <td>0.00593854</td>\n",
       "      <td>0.00719235</td>\n",
       "      <td>0.00482099</td>\n",
       "    </tr>\n",
       "    <tr>\n",
       "      <th>6</th>\n",
       "      <td>0.0585453</td>\n",
       "      <td>0.0697504</td>\n",
       "      <td>0.0472875</td>\n",
       "      <td>-0.0096612</td>\n",
       "      <td>-0.00638446</td>\n",
       "      <td>0.0043502</td>\n",
       "    </tr>\n",
       "    <tr>\n",
       "      <th>7</th>\n",
       "      <td>0.0171577</td>\n",
       "      <td>-0.00710211</td>\n",
       "      <td>0.0226201</td>\n",
       "      <td>-0.00377142</td>\n",
       "      <td>0.00561258</td>\n",
       "      <td>0.00404969</td>\n",
       "    </tr>\n",
       "    <tr>\n",
       "      <th>...</th>\n",
       "      <td>...</td>\n",
       "      <td>...</td>\n",
       "      <td>...</td>\n",
       "      <td>...</td>\n",
       "      <td>...</td>\n",
       "      <td>...</td>\n",
       "    </tr>\n",
       "    <tr>\n",
       "      <th>242</th>\n",
       "      <td>0.0131964</td>\n",
       "      <td>0.0350668</td>\n",
       "      <td>0.0606605</td>\n",
       "      <td>-0.00272124</td>\n",
       "      <td>0.00179122</td>\n",
       "      <td>2.56511e-05</td>\n",
       "    </tr>\n",
       "    <tr>\n",
       "      <th>243</th>\n",
       "      <td>0.00331737</td>\n",
       "      <td>-0.00772246</td>\n",
       "      <td>0.0380541</td>\n",
       "      <td>-0.00419282</td>\n",
       "      <td>-0.00652406</td>\n",
       "      <td>1.23602e-05</td>\n",
       "    </tr>\n",
       "    <tr>\n",
       "      <th>244</th>\n",
       "      <td>0.0147604</td>\n",
       "      <td>0.0264729</td>\n",
       "      <td>0.0103307</td>\n",
       "      <td>-0.0358089</td>\n",
       "      <td>-0.0185919</td>\n",
       "      <td>-4.55976e-06</td>\n",
       "    </tr>\n",
       "    <tr>\n",
       "      <th>245</th>\n",
       "      <td>0.0229637</td>\n",
       "      <td>0.0420913</td>\n",
       "      <td>-0.00871113</td>\n",
       "      <td>0.00800359</td>\n",
       "      <td>-0.00210882</td>\n",
       "      <td>2.02679e-05</td>\n",
       "    </tr>\n",
       "    <tr>\n",
       "      <th>246</th>\n",
       "      <td>0.036974</td>\n",
       "      <td>0.0404377</td>\n",
       "      <td>0.0160339</td>\n",
       "      <td>0.00562161</td>\n",
       "      <td>0.000422977</td>\n",
       "      <td>2.88946e-05</td>\n",
       "    </tr>\n",
       "  </tbody>\n",
       "</table>\n",
       "<p>244 rows × 6 columns</p>\n",
       "</div>"
      ],
      "text/plain": [
       "              1  Unnamed: 3  Unnamed: 4  Unnamed: 5   Unnamed: 6   Unnamed: 7\n",
       "3     0.0431977   0.0260299     0.13824   0.0150034     0.010966   0.00536417\n",
       "4   -0.00187427  -0.0786783  -0.0678592  0.00667544    0.0102496   0.00469495\n",
       "5    -0.0484658  -0.0478684  -0.0781715  0.00593854   0.00719235   0.00482099\n",
       "6     0.0585453   0.0697504   0.0472875  -0.0096612  -0.00638446    0.0043502\n",
       "7     0.0171577 -0.00710211   0.0226201 -0.00377142   0.00561258   0.00404969\n",
       "..          ...         ...         ...         ...          ...          ...\n",
       "242   0.0131964   0.0350668   0.0606605 -0.00272124   0.00179122  2.56511e-05\n",
       "243  0.00331737 -0.00772246   0.0380541 -0.00419282  -0.00652406  1.23602e-05\n",
       "244   0.0147604   0.0264729   0.0103307  -0.0358089   -0.0185919 -4.55976e-06\n",
       "245   0.0229637   0.0420913 -0.00871113  0.00800359  -0.00210882  2.02679e-05\n",
       "246    0.036974   0.0404377   0.0160339  0.00562161  0.000422977  2.88946e-05\n",
       "\n",
       "[244 rows x 6 columns]"
      ]
     },
     "execution_count": 259,
     "metadata": {},
     "output_type": "execute_result"
    }
   ],
   "source": [
    "#df = df.iloc[: , :]\n",
    "DF1=DF.iloc[3: ,2 :8]\n",
    "DF1"
   ]
  },
  {
   "cell_type": "code",
   "execution_count": 361,
   "metadata": {},
   "outputs": [],
   "source": [
    "a=DF1\n",
    "cov=a.astype(float).cov()"
   ]
  },
  {
   "cell_type": "code",
   "execution_count": 317,
   "metadata": {},
   "outputs": [
    {
     "data": {
      "text/html": [
       "<div>\n",
       "<style scoped>\n",
       "    .dataframe tbody tr th:only-of-type {\n",
       "        vertical-align: middle;\n",
       "    }\n",
       "\n",
       "    .dataframe tbody tr th {\n",
       "        vertical-align: top;\n",
       "    }\n",
       "\n",
       "    .dataframe thead th {\n",
       "        text-align: right;\n",
       "    }\n",
       "</style>\n",
       "<table border=\"1\" class=\"dataframe\">\n",
       "  <thead>\n",
       "    <tr style=\"text-align: right;\">\n",
       "      <th></th>\n",
       "      <th>0</th>\n",
       "    </tr>\n",
       "  </thead>\n",
       "  <tbody>\n",
       "    <tr>\n",
       "      <th>0</th>\n",
       "      <td>1.0</td>\n",
       "    </tr>\n",
       "    <tr>\n",
       "      <th>1</th>\n",
       "      <td>1.0</td>\n",
       "    </tr>\n",
       "    <tr>\n",
       "      <th>2</th>\n",
       "      <td>1.0</td>\n",
       "    </tr>\n",
       "    <tr>\n",
       "      <th>3</th>\n",
       "      <td>1.0</td>\n",
       "    </tr>\n",
       "    <tr>\n",
       "      <th>4</th>\n",
       "      <td>1.0</td>\n",
       "    </tr>\n",
       "    <tr>\n",
       "      <th>5</th>\n",
       "      <td>1.0</td>\n",
       "    </tr>\n",
       "  </tbody>\n",
       "</table>\n",
       "</div>"
      ],
      "text/plain": [
       "     0\n",
       "0  1.0\n",
       "1  1.0\n",
       "2  1.0\n",
       "3  1.0\n",
       "4  1.0\n",
       "5  1.0"
      ]
     },
     "execution_count": 317,
     "metadata": {},
     "output_type": "execute_result"
    }
   ],
   "source": [
    "e=pd.DataFrame(np.ones(6))\n",
    "e"
   ]
  },
  {
   "cell_type": "code",
   "execution_count": 331,
   "metadata": {},
   "outputs": [
    {
     "data": {
      "text/html": [
       "<div>\n",
       "<style scoped>\n",
       "    .dataframe tbody tr th:only-of-type {\n",
       "        vertical-align: middle;\n",
       "    }\n",
       "\n",
       "    .dataframe tbody tr th {\n",
       "        vertical-align: top;\n",
       "    }\n",
       "\n",
       "    .dataframe thead th {\n",
       "        text-align: right;\n",
       "    }\n",
       "</style>\n",
       "<table border=\"1\" class=\"dataframe\">\n",
       "  <thead>\n",
       "    <tr style=\"text-align: right;\">\n",
       "      <th></th>\n",
       "      <th>0</th>\n",
       "      <th>1</th>\n",
       "      <th>2</th>\n",
       "      <th>3</th>\n",
       "      <th>4</th>\n",
       "      <th>5</th>\n",
       "    </tr>\n",
       "  </thead>\n",
       "  <tbody>\n",
       "    <tr>\n",
       "      <th>0</th>\n",
       "      <td>1.0</td>\n",
       "      <td>1.0</td>\n",
       "      <td>1.0</td>\n",
       "      <td>1.0</td>\n",
       "      <td>1.0</td>\n",
       "      <td>1.0</td>\n",
       "    </tr>\n",
       "  </tbody>\n",
       "</table>\n",
       "</div>"
      ],
      "text/plain": [
       "     0    1    2    3    4    5\n",
       "0  1.0  1.0  1.0  1.0  1.0  1.0"
      ]
     },
     "execution_count": 331,
     "metadata": {},
     "output_type": "execute_result"
    }
   ],
   "source": [
    "e.T"
   ]
  },
  {
   "cell_type": "code",
   "execution_count": 364,
   "metadata": {},
   "outputs": [],
   "source": [
    "#covriance matrix for 2 year\n",
    "cov=24*cov\n",
    "a=e.T@np.linalg.inv(cov.values)@e\n",
    "a=a.values\n",
    "a=float(a)"
   ]
  },
  {
   "cell_type": "code",
   "execution_count": 365,
   "metadata": {},
   "outputs": [
    {
     "data": {
      "text/plain": [
       "array([0.18017439, 0.13680483, 0.23300986, 0.10811212, 0.12642387,\n",
       "       0.07625199])"
      ]
     },
     "execution_count": 365,
     "metadata": {},
     "output_type": "execute_result"
    }
   ],
   "source": [
    "r = DF1.mean(axis=0).values\n",
    "r = 24*r\n",
    "r"
   ]
  },
  {
   "cell_type": "code",
   "execution_count": 366,
   "metadata": {},
   "outputs": [
    {
     "data": {
      "text/plain": [
       "2.2904538179068976"
      ]
     },
     "execution_count": 366,
     "metadata": {},
     "output_type": "execute_result"
    }
   ],
   "source": [
    "b=r.T@np.linalg.inv(cov.values)@e.values\n",
    "b=float(b)\n",
    "b"
   ]
  },
  {
   "cell_type": "code",
   "execution_count": 367,
   "metadata": {},
   "outputs": [],
   "source": [
    "c=r.T@np.linalg.inv(cov.values)@r\n",
    "c=float(c)"
   ]
  },
  {
   "cell_type": "code",
   "execution_count": 368,
   "metadata": {},
   "outputs": [
    {
     "data": {
      "text/plain": [
       "0.1270875988172815"
      ]
     },
     "execution_count": 368,
     "metadata": {},
     "output_type": "execute_result"
    }
   ],
   "source": [
    "d=(a*c-b*b)\n",
    "d"
   ]
  },
  {
   "cell_type": "code",
   "execution_count": 369,
   "metadata": {},
   "outputs": [
    {
     "data": {
      "text/plain": [
       "[<matplotlib.lines.Line2D at 0x7ff2584d4c10>]"
      ]
     },
     "execution_count": 369,
     "metadata": {},
     "output_type": "execute_result"
    },
    {
     "data": {
      "image/png": "[encoded data removed]",
      "text/plain": [
       "<Figure size 432x288 with 1 Axes>"
      ]
     },
     "metadata": {
      "needs_background": "light"
     },
     "output_type": "display_data"
    }
   ],
   "source": [
    "t = np.linspace(-10,10,20000)\n",
    "plt.plot((1+d*t*t)/a,(b+d*t)/a)\n"
   ]
  },
  {
   "cell_type": "code",
   "execution_count": null,
   "metadata": {},
   "outputs": [],
   "source": []
  },
  {
   "cell_type": "code",
   "execution_count": null,
   "metadata": {},
   "outputs": [],
   "source": []
  }
 ],
 "metadata": {
  "kernelspec": {
   "display_name": "Python 3",
   "language": "python",
   "name": "python3"
  },
  "language_info": {
   "codemirror_mode": {
    "name": "ipython",
    "version": 3
   },
   "file_extension": ".py",
   "mimetype": "text/x-python",
   "name": "python",
   "nbconvert_exporter": "python",
   "pygments_lexer": "ipython3",
   "version": "3.8.5"
  }
 },
 "nbformat": 4,
 "nbformat_minor": 4
}
