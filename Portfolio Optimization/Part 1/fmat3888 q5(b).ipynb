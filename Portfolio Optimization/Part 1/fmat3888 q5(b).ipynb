{
 "cells": [
  {
   "cell_type": "code",
   "execution_count": 584,
   "metadata": {},
   "outputs": [],
   "source": [
    "# Import packages\n",
    "%matplotlib inline\n",
    "import numpy as np\n",
    "import scipy as sp\n",
    "import scipy.stats as sps\n",
    "import matplotlib.pyplot as plt\n",
    "import pandas as  pd\n",
    "import math as mt\n",
    "import seaborn as sns"
   ]
  },
  {
   "cell_type": "code",
   "execution_count": 585,
   "metadata": {},
   "outputs": [
    {
     "data": {
      "text/html": [
       "<div>\n",
       "<style scoped>\n",
       "    .dataframe tbody tr th:only-of-type {\n",
       "        vertical-align: middle;\n",
       "    }\n",
       "\n",
       "    .dataframe tbody tr th {\n",
       "        vertical-align: top;\n",
       "    }\n",
       "\n",
       "    .dataframe thead th {\n",
       "        text-align: right;\n",
       "    }\n",
       "</style>\n",
       "<table border=\"1\" class=\"dataframe\">\n",
       "  <thead>\n",
       "    <tr style=\"text-align: right;\">\n",
       "      <th></th>\n",
       "      <th>From</th>\n",
       "      <th>2001-01-31 00:00:00</th>\n",
       "      <th>1</th>\n",
       "      <th>Unnamed: 3</th>\n",
       "      <th>Unnamed: 4</th>\n",
       "      <th>Unnamed: 5</th>\n",
       "      <th>Unnamed: 6</th>\n",
       "      <th>Unnamed: 7</th>\n",
       "    </tr>\n",
       "  </thead>\n",
       "  <tbody>\n",
       "    <tr>\n",
       "      <th>0</th>\n",
       "      <td>To</td>\n",
       "      <td>2021-04-30 00:00:00</td>\n",
       "      <td>244</td>\n",
       "      <td>NaN</td>\n",
       "      <td>NaN</td>\n",
       "      <td>NaN</td>\n",
       "      <td>NaN</td>\n",
       "      <td>NaN</td>\n",
       "    </tr>\n",
       "    <tr>\n",
       "      <th>1</th>\n",
       "      <td>NaN</td>\n",
       "      <td>Monthly returns (net of taxes and investment f...</td>\n",
       "      <td>NaN</td>\n",
       "      <td>NaN</td>\n",
       "      <td>NaN</td>\n",
       "      <td>NaN</td>\n",
       "      <td>NaN</td>\n",
       "      <td>NaN</td>\n",
       "    </tr>\n",
       "    <tr>\n",
       "      <th>2</th>\n",
       "      <td>NaN</td>\n",
       "      <td>DATE</td>\n",
       "      <td>Australian Equities (G)</td>\n",
       "      <td>Developed Equities (G)</td>\n",
       "      <td>Emerging Market Equities (G)</td>\n",
       "      <td>Australian Fixed Interest (D)</td>\n",
       "      <td>Global Government Bonds (D)</td>\n",
       "      <td>Cash (D)</td>\n",
       "    </tr>\n",
       "    <tr>\n",
       "      <th>3</th>\n",
       "      <td>4</td>\n",
       "      <td>2001-01-31 00:00:00</td>\n",
       "      <td>0.0431977</td>\n",
       "      <td>0.0260299</td>\n",
       "      <td>0.13824</td>\n",
       "      <td>0.0150034</td>\n",
       "      <td>0.010966</td>\n",
       "      <td>0.00536417</td>\n",
       "    </tr>\n",
       "    <tr>\n",
       "      <th>4</th>\n",
       "      <td>5</td>\n",
       "      <td>2001-02-28 00:00:00</td>\n",
       "      <td>-0.00187427</td>\n",
       "      <td>-0.0786783</td>\n",
       "      <td>-0.0678592</td>\n",
       "      <td>0.00667544</td>\n",
       "      <td>0.0102496</td>\n",
       "      <td>0.00469495</td>\n",
       "    </tr>\n",
       "    <tr>\n",
       "      <th>...</th>\n",
       "      <td>...</td>\n",
       "      <td>...</td>\n",
       "      <td>...</td>\n",
       "      <td>...</td>\n",
       "      <td>...</td>\n",
       "      <td>...</td>\n",
       "      <td>...</td>\n",
       "      <td>...</td>\n",
       "    </tr>\n",
       "    <tr>\n",
       "      <th>242</th>\n",
       "      <td>243</td>\n",
       "      <td>2020-12-31 00:00:00</td>\n",
       "      <td>0.0131964</td>\n",
       "      <td>0.0350668</td>\n",
       "      <td>0.0606605</td>\n",
       "      <td>-0.00272124</td>\n",
       "      <td>0.00179122</td>\n",
       "      <td>2.56511e-05</td>\n",
       "    </tr>\n",
       "    <tr>\n",
       "      <th>243</th>\n",
       "      <td>244</td>\n",
       "      <td>2021-01-31 00:00:00</td>\n",
       "      <td>0.00331737</td>\n",
       "      <td>-0.00772246</td>\n",
       "      <td>0.0380541</td>\n",
       "      <td>-0.00419282</td>\n",
       "      <td>-0.00652406</td>\n",
       "      <td>1.23602e-05</td>\n",
       "    </tr>\n",
       "    <tr>\n",
       "      <th>244</th>\n",
       "      <td>245</td>\n",
       "      <td>2021-02-28 00:00:00</td>\n",
       "      <td>0.0147604</td>\n",
       "      <td>0.0264729</td>\n",
       "      <td>0.0103307</td>\n",
       "      <td>-0.0358089</td>\n",
       "      <td>-0.0185919</td>\n",
       "      <td>-4.55976e-06</td>\n",
       "    </tr>\n",
       "    <tr>\n",
       "      <th>245</th>\n",
       "      <td>246</td>\n",
       "      <td>2021-03-31 00:00:00</td>\n",
       "      <td>0.0229637</td>\n",
       "      <td>0.0420913</td>\n",
       "      <td>-0.00871113</td>\n",
       "      <td>0.00800359</td>\n",
       "      <td>-0.00210882</td>\n",
       "      <td>2.02679e-05</td>\n",
       "    </tr>\n",
       "    <tr>\n",
       "      <th>246</th>\n",
       "      <td>247</td>\n",
       "      <td>2021-04-30 00:00:00</td>\n",
       "      <td>0.036974</td>\n",
       "      <td>0.0404377</td>\n",
       "      <td>0.0160339</td>\n",
       "      <td>0.00562161</td>\n",
       "      <td>0.000422977</td>\n",
       "      <td>2.88946e-05</td>\n",
       "    </tr>\n",
       "  </tbody>\n",
       "</table>\n",
       "<p>247 rows × 8 columns</p>\n",
       "</div>"
      ],
      "text/plain": [
       "    From                                2001-01-31 00:00:00  \\\n",
       "0     To                                2021-04-30 00:00:00   \n",
       "1    NaN  Monthly returns (net of taxes and investment f...   \n",
       "2    NaN                                               DATE   \n",
       "3      4                                2001-01-31 00:00:00   \n",
       "4      5                                2001-02-28 00:00:00   \n",
       "..   ...                                                ...   \n",
       "242  243                                2020-12-31 00:00:00   \n",
       "243  244                                2021-01-31 00:00:00   \n",
       "244  245                                2021-02-28 00:00:00   \n",
       "245  246                                2021-03-31 00:00:00   \n",
       "246  247                                2021-04-30 00:00:00   \n",
       "\n",
       "                           1              Unnamed: 3  \\\n",
       "0                        244                     NaN   \n",
       "1                        NaN                     NaN   \n",
       "2    Australian Equities (G)  Developed Equities (G)   \n",
       "3                  0.0431977               0.0260299   \n",
       "4                -0.00187427              -0.0786783   \n",
       "..                       ...                     ...   \n",
       "242                0.0131964               0.0350668   \n",
       "243               0.00331737             -0.00772246   \n",
       "244                0.0147604               0.0264729   \n",
       "245                0.0229637               0.0420913   \n",
       "246                 0.036974               0.0404377   \n",
       "\n",
       "                       Unnamed: 4                     Unnamed: 5  \\\n",
       "0                             NaN                            NaN   \n",
       "1                             NaN                            NaN   \n",
       "2    Emerging Market Equities (G)  Australian Fixed Interest (D)   \n",
       "3                         0.13824                      0.0150034   \n",
       "4                      -0.0678592                     0.00667544   \n",
       "..                            ...                            ...   \n",
       "242                     0.0606605                    -0.00272124   \n",
       "243                     0.0380541                    -0.00419282   \n",
       "244                     0.0103307                     -0.0358089   \n",
       "245                   -0.00871113                     0.00800359   \n",
       "246                     0.0160339                     0.00562161   \n",
       "\n",
       "                      Unnamed: 6   Unnamed: 7  \n",
       "0                            NaN          NaN  \n",
       "1                            NaN          NaN  \n",
       "2    Global Government Bonds (D)     Cash (D)  \n",
       "3                       0.010966   0.00536417  \n",
       "4                      0.0102496   0.00469495  \n",
       "..                           ...          ...  \n",
       "242                   0.00179122  2.56511e-05  \n",
       "243                  -0.00652406  1.23602e-05  \n",
       "244                   -0.0185919 -4.55976e-06  \n",
       "245                  -0.00210882  2.02679e-05  \n",
       "246                  0.000422977  2.88946e-05  \n",
       "\n",
       "[247 rows x 8 columns]"
      ]
     },
     "execution_count": 585,
     "metadata": {},
     "output_type": "execute_result"
    }
   ],
   "source": [
    "data_path='/Users/yangyingkang/Downloads/chrome下载/Data Interdisciplinary Project.xlsx'\n",
    "DF=pd.read_excel(data_path)\n",
    "DF"
   ]
  },
  {
   "cell_type": "code",
   "execution_count": 609,
   "metadata": {},
   "outputs": [],
   "source": [
    "#df = pd.DataFrame(DF, columns= ['DATE','Cash(D)'])\n",
    "DF=pd.DataFrame(DF)"
   ]
  },
  {
   "cell_type": "code",
   "execution_count": 614,
   "metadata": {},
   "outputs": [],
   "source": [
    "#df = df.iloc[: , :]\n",
    "DF1=DF.iloc[123:171 ,2 :8]###75,123       ##123 171\n",
    "#"
   ]
  },
  {
   "cell_type": "code",
   "execution_count": 615,
   "metadata": {},
   "outputs": [
    {
     "data": {
      "text/plain": [
       "array([-0.10328555, -0.0935013 , -0.15134977,  0.30340985,  0.5653799 ,\n",
       "        0.47934686])"
      ]
     },
     "execution_count": 615,
     "metadata": {},
     "output_type": "execute_result"
    }
   ],
   "source": [
    "###q5(b)###   change  75,123  into     ##123 171 to compute period B\n",
    "e=np.ones(6)\n",
    "C=A.astype(float).cov().values*24\n",
    "m=DF1.mean(axis=0).values*24\n",
    "ecm=e.T@C**(-1)@m\n",
    "mcm=m.T@C**(-1)@m\n",
    "ece=e.T@C**(-1)@e\n",
    "mce=m.T@C**(-1)@e\n",
    "left=(1*mcm-0.12*ecm)\n",
    "righ=ece*0.12-mce\n",
    "bot=ece*mcm-ecm*mce\n",
    "w=(left*C**(-1)@e+righ*(C**(-1))@m)/bot\n",
    "w"
   ]
  },
  {
   "cell_type": "code",
   "execution_count": null,
   "metadata": {},
   "outputs": [],
   "source": [
    "####(A)array([-0.04136761, -0.02723671, -0.04181229,  0.08184119,  0.1270207 ,0.90155472])"
   ]
  },
  {
   "cell_type": "code",
   "execution_count": null,
   "metadata": {},
   "outputs": [],
   "source": [
    "###(b)array([-0.10328555, -0.0935013 , -0.15134977,  0.30340985,  0.5653799 ,0.47934686])"
   ]
  },
  {
   "cell_type": "code",
   "execution_count": null,
   "metadata": {},
   "outputs": [],
   "source": []
  },
  {
   "cell_type": "code",
   "execution_count": null,
   "metadata": {},
   "outputs": [],
   "source": []
  },
  {
   "cell_type": "code",
   "execution_count": null,
   "metadata": {},
   "outputs": [],
   "source": []
  },
  {
   "cell_type": "code",
   "execution_count": null,
   "metadata": {},
   "outputs": [],
   "source": []
  },
  {
   "cell_type": "code",
   "execution_count": null,
   "metadata": {},
   "outputs": [],
   "source": []
  },
  {
   "cell_type": "code",
   "execution_count": null,
   "metadata": {},
   "outputs": [],
   "source": []
  },
  {
   "cell_type": "code",
   "execution_count": 596,
   "metadata": {},
   "outputs": [],
   "source": []
  },
  {
   "cell_type": "code",
   "execution_count": 597,
   "metadata": {},
   "outputs": [],
   "source": []
  },
  {
   "cell_type": "code",
   "execution_count": 598,
   "metadata": {},
   "outputs": [
    {
     "data": {
      "text/plain": [
       "[<matplotlib.lines.Line2D at 0x7ff269329d30>]"
      ]
     },
     "execution_count": 598,
     "metadata": {},
     "output_type": "execute_result"
    },
    {
     "data": {
      "image/png": "[encoded data removed]",
      "text/plain": [
       "<Figure size 432x288 with 1 Axes>"
      ]
     },
     "metadata": {
      "needs_background": "light"
     },
     "output_type": "display_data"
    }
   ],
   "source": []
  },
  {
   "cell_type": "code",
   "execution_count": 583,
   "metadata": {},
   "outputs": [
    {
     "data": {
      "image/png": "[encoded data removed]",
      "text/plain": [
       "<Figure size 432x288 with 1 Axes>"
      ]
     },
     "metadata": {
      "needs_background": "light"
     },
     "output_type": "display_data"
    }
   ],
   "source": [
    "def eff_frontier(a,b,c,d,t):\n",
    "    var = (1+d*t*t)/a\n",
    "    mean = (b+d*t)/a\n",
    "    mean = -mean[np.where(mean<(b/a))]\n",
    "    var = var[0:len(mean)]\n",
    "    plt.plot(var,mean,'-b')\n",
    "    plt.title('Efficient Frontier')\n",
    "    plt.xlabel('$\\sigma^2(t)$',fontsize=12);plt.ylabel('$\\mu(t)$',rotation=0,labelpad=15,fontsize=12)\n",
    "    plt.show()\n",
    "    return\n",
    "\n",
    "t = np.linspace(-0.2,0.2,20000)\n",
    "eff_frontier(a_1,b_1,c_1,d_1,t)"
   ]
  },
  {
   "cell_type": "code",
   "execution_count": 429,
   "metadata": {},
   "outputs": [
    {
     "data": {
      "text/plain": [
       "-0.3225129543216155"
      ]
     },
     "execution_count": 429,
     "metadata": {},
     "output_type": "execute_result"
    }
   ],
   "source": [
    "float(-770893056167862065328110998887797831822967734339572724044969820676563705569137/2390270052219713870467681915497876281926828309690814561706954065472945764716322)\n"
   ]
  },
  {
   "cell_type": "code",
   "execution_count": null,
   "metadata": {},
   "outputs": [],
   "source": []
  },
  {
   "cell_type": "code",
   "execution_count": null,
   "metadata": {},
   "outputs": [],
   "source": []
  }
 ],
 "metadata": {
  "kernelspec": {
   "display_name": "Python 3",
   "language": "python",
   "name": "python3"
  },
  "language_info": {
   "codemirror_mode": {
    "name": "ipython",
    "version": 3
   },
   "file_extension": ".py",
   "mimetype": "text/x-python",
   "name": "python",
   "nbconvert_exporter": "python",
   "pygments_lexer": "ipython3",
   "version": "3.8.5"
  }
 },
 "nbformat": 4,
 "nbformat_minor": 4
}
